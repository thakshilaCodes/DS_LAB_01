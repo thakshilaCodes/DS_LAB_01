{
  "nbformat": 4,
  "nbformat_minor": 0,
  "metadata": {
    "colab": {
      "provenance": [],
      "authorship_tag": "ABX9TyO8PHG3BvEv6DgU7Sc/NnPm",
      "include_colab_link": true
    },
    "kernelspec": {
      "name": "python3",
      "display_name": "Python 3"
    },
    "language_info": {
      "name": "python"
    }
  },
  "cells": [
    {
      "cell_type": "markdown",
      "metadata": {
        "id": "view-in-github",
        "colab_type": "text"
      },
      "source": [
        "<a href=\"https://colab.research.google.com/github/thakshilaCodes/DS_LAB_01/blob/main/DSLab01.ipynb\" target=\"_parent\"><img src=\"https://colab.research.google.com/assets/colab-badge.svg\" alt=\"Open In Colab\"/></a>"
      ]
    },
    {
      "cell_type": "code",
      "execution_count": 1,
      "metadata": {
        "colab": {
          "base_uri": "https://localhost:8080/"
        },
        "id": "z26o56PY5znD",
        "outputId": "2f8a772b-b29f-4be0-d001-3a90abbe022f"
      },
      "outputs": [
        {
          "output_type": "stream",
          "name": "stdout",
          "text": [
            "[[2.77594692 9.97631772 0.01257901 0.01453014]\n",
            " [2.13775759 1.14782948 0.89163981 0.14433465]\n",
            " [0.71333274 3.11409697 8.40629301 1.4268676 ]\n",
            " [3.45322485 3.16541791 0.08080782 1.24838716]]\n"
          ]
        }
      ],
      "source": [
        "import numpy as np\n",
        "\n",
        "arr = np.random.exponential(scale=2.0, size=(4, 4))\n",
        "\n",
        "print(arr)\n"
      ]
    },
    {
      "cell_type": "code",
      "source": [],
      "metadata": {
        "id": "jH4NOUXjZhjS"
      },
      "execution_count": null,
      "outputs": []
    }
  ]
}